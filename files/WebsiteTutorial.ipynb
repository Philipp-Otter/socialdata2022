{
 "cells": [
  {
   "cell_type": "markdown",
   "metadata": {},
   "source": [
    "# Creating a Minimalist Website with Hugo and Markdown\n",
    "\n",
    "In this tutorial we are going to look at how we can put all our beautiful visualizations and analysis for the final project on a website. \n",
    "\n",
    "> Follow the instructions below to build your own website! (or jump after step 4 for an alternative way to use Hugo and Markdown)\n",
    "\n",
    "## 1. A quick intro to Git\n",
    "[Git](https://git-scm.com/) is an essential tool for anyone who works with data or code. It makes it easy to keep various versions of your code, collaborate with other people on the same code, etc., as for instance with [GitHub](https://github.com/).\n",
    "\n",
    "Since we will rely on GitHub for hosting our website, it's a good idea to go through a brief introduction to git and GitHub in case you're not familiar with them: [this tutorial](https://product.hubspot.com/blog/git-and-github-tutorial-for-beginners) should provide a good starting point.\n"
   ]
  },
  {
   "cell_type": "markdown",
   "metadata": {},
   "source": [
    "## 2. Hugo\n",
    "\n",
    "[Hugo](https://gohugo.io/) is a framework to quickly create beautiful websites using nothing more than the Markdown you are used to from Jupyter notebooks. The first step is to install Hugo by following the instructions in the [getting-started page](https://gohugo.io/getting-started/installing/).\n",
    "\n",
    "Before going further, make a new directory, navigate to it in a terminal (for those of you using windows, you should ~~stop using windows~~ use [git-bash](https://www.atlassian.com/git/tutorials/git-bash)), and turn it into a git repository by running: \n",
    "\n",
    "```\n",
    "git init\n",
    "git branch -M main\n",
    "```\n",
    "\n",
    "Within that directory, go through Hugo's quick-start tutorial [here](https://gohugo.io/getting-started/quick-start/). Pick a nice theme, and play around with your website (add some text, try some of the formatting options, etc.).\n",
    "\n",
    "Once you are done, commit your changes: \n",
    "\n",
    "```\n",
    "git add --all\n",
    "git commit -m \"Some message detailing what you did\"\n",
    "```"
   ]
  },
  {
   "cell_type": "markdown",
   "metadata": {},
   "source": [
    "## 3. Hosting your website on Github Pages\n",
    "\n",
    "[Github Pages](https://pages.github.com/) offers an easy way to host your static websites directly on GitHub. We'll do  that with the basic website we just created. You can find some information on how to do this [here](https://bwaycer.github.io/hugo_tutorial.hugo/tutorials/github-pages-blog/): we'll detail the first alternative from that tutorial, but if you're comfortable with git, we suggest trying the second alternative as it is more flexible.\n",
    "\n",
    ">*Initialize a new github repository*: \n",
    "> * Go to GitHub and create a [new repository](https://github.com/new). \n",
    "> * On the next page, follow the instructions under *\"…or push an existing repository from the command line\"*, and push the repository containing your Hugo website. \n",
    "> \n",
    "> Follow the instructions on the tutorial above ([this one](https://bwaycer.github.io/hugo_tutorial.hugo/tutorials/github-pages-blog/)):\n",
    ">\n",
    "> * Setup github pages for your repository\n",
    "> * Change hugo's configuration so that the build directory is \"docs\"\n",
    "> * Re-build your website\n",
    "> * Commit/push your changes, and check that you can see the website on github. \n",
    "\n",
    "**Note**: you might have to change Hugo's configuration (`config.toml`) so that the base url points to the url of your page. So:\n",
    "\n",
    "```\n",
    "baseURL = \"https://YOUR_PAGE.github.io/project_website_demo\"\n",
    "\n",
    "```"
   ]
  },
  {
   "cell_type": "markdown",
   "metadata": {},
   "source": [
    "## 4. Adding some visualizations\n",
    "\n",
    "You now (should) have a website, but it's kind of empty. Let's populate it with a few different visualizations from your project.\n",
    "\n",
    "*Matplotlib figures*: Matplotlib is easy, as it just exports plain images that you can include in your website. Choose a nice visualization form one of the previous weeks, save it to a file (**hint**: use `pyplot.savefig`), and add it to a page on your website (see [here](https://www.austinfriday.com/tutorial/adding-images-to-your-hugo-pages/) for a simple walkthrough).\n",
    "\n",
    "**Note:** because we are taking the easy road and building our website in the docs folder, you'll probably have an issue when viewing the images once your site is online. See [here](https://discourse.gohugo.io/t/can-i-reference-baseurl-from-content/2686/2) for a fix:\n",
    "\n",
    ">* Create a file  `your_website_folder/layouts/shortcodes/baseurl.html` (you might have to create the `shortcodes` folder)\n",
    ">* Put the following line in that file: `{{ .Page.Site.BaseURL }}`\n",
    ">* You can then reference images in your markdown file as follows: `![image description]({{< baseurl >}}/image.png)`\n",
    "\n",
    "It should look something like this page [here](https://ldorigo.github.io/dataviz_website_demo/pages/matplotlib/).\n",
    "\n",
    "Congrats, you can now make a website! We've only scratched the surface, but this should be enough to get started on your projects."
   ]
  },
  {
   "cell_type": "markdown",
   "metadata": {},
   "source": [
    "### However ..."
   ]
  },
  {
   "cell_type": "markdown",
   "metadata": {},
   "source": [
    "If you feel a bit lost after the steps, you can actually follow this [video tutorial](https://www.youtube.com/watch?v=LIFvgrRxdt4). I tried it myself and it works like a charm 😊\n",
    "\n",
    "**N.B.:** \n",
    "> 1. In the video the url used in the config file is not the same as the one you have to use. Make sure you will add the full url as displayed under Settings -> Pages on GitHub.\n",
    "> 2. You can add a figure in the post you've created with markdown: `![image](/name_of_website_repo/image.png)`, and add the file under your `static` folder (it would be `blog` in the video example). Remember to push your changes!"
   ]
  },
  {
   "cell_type": "markdown",
   "metadata": {},
   "source": [
    "## 5. Add Bokeh plots in Markdown"
   ]
  },
  {
   "cell_type": "markdown",
   "metadata": {},
   "source": [
    "If you want to add a Bokeh interactive visualization to your posts/pages in markdown there are different ways.\n",
    "\n",
    "However, I found this one to be the easiest:\n",
    "1. Make your Bokeh plot, let's call it `p`;\n",
    "2. use `output_file(name_of_file.html)` followed by `save(p)` to export your plot into an html file;\n",
    "3. now you can embed the html file by following [these steps](https://xa1.at/hugo-include-html/).\n",
    "\n",
    "**N.B.:** The html file should be saved where the markdown file is. Again, remember to push your changes!"
   ]
  }
 ],
 "metadata": {
  "hide_input": false,
  "kernelspec": {
   "display_name": "Python 3",
   "language": "python",
   "name": "python3"
  },
  "language_info": {
   "codemirror_mode": {
    "name": "ipython",
    "version": 3
   },
   "file_extension": ".py",
   "mimetype": "text/x-python",
   "name": "python",
   "nbconvert_exporter": "python",
   "pygments_lexer": "ipython3",
   "version": "3.7.7"
  }
 },
 "nbformat": 4,
 "nbformat_minor": 4
}
